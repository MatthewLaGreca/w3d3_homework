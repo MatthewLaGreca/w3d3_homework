{
 "cells": [
  {
   "cell_type": "markdown",
   "metadata": {},
   "source": [
    "# Object Oriented Programming 2 - examples and APIs\n"
   ]
  },
  {
   "cell_type": "markdown",
   "metadata": {},
   "source": [
    "## Tasks Today:\n",
    "\n",
    "   \n",
    "\n",
    "1) <b>Restful APIs & HTTP Requests </b> <br>\n",
    " &nbsp;&nbsp;&nbsp;&nbsp; a) What are APIs <br>\n",
    "  &nbsp;&nbsp;&nbsp;&nbsp; b) What does HTTP stand for, request methods, status codes <br>\n",
    " &nbsp;&nbsp;&nbsp;&nbsp; c) Making API requests and retrieving/jsonifying data <br>\n",
    " &nbsp;&nbsp;&nbsp;&nbsp; d) Using APIs requests within functions & classes <br>\n",
    " 2) <b>Working with the Pokemon API </b> <br>\n",
    " &nbsp;&nbsp;&nbsp;&nbsp; a) Making Requests to the Pokemon API<br>\n",
    "  &nbsp;&nbsp;&nbsp;&nbsp; b) Creating a function to make API Requests <br>\n",
    " &nbsp;&nbsp;&nbsp;&nbsp; c) Creating a Pokemon class and instantiating Pokemon objects<br>\n",
    " &nbsp;&nbsp;&nbsp;&nbsp; d) Create an Evolver class that inherits from Pokemon class <br>\n",
    " "
   ]
  },
  {
   "cell_type": "markdown",
   "metadata": {},
   "source": [
    "# working with APis"
   ]
  },
  {
   "cell_type": "markdown",
   "metadata": {},
   "source": [
    "<p> What exactly is an API? <br> <br>\n",
    "API is the acronym for Application Programming Interface, which is a software intermediary that allows two applications to talk to each other. Each time you use an app like Facebook, send an instant message, or check the weather on your phone, you're using an API. </p>"
   ]
  },
  {
   "cell_type": "markdown",
   "metadata": {},
   "source": [
    "### The Poke API  allows you to retreive a pokemon's information from PokeAPI https://pokeapi.co/\n",
    "\n"
   ]
  },
  {
   "cell_type": "code",
   "execution_count": 2,
   "metadata": {},
   "outputs": [
    {
     "ename": "SyntaxError",
     "evalue": "invalid syntax (842801469.py, line 1)",
     "output_type": "error",
     "traceback": [
      "\u001b[1;36m  Cell \u001b[1;32mIn[2], line 1\u001b[1;36m\u001b[0m\n\u001b[1;33m    python.exe -m pip install --upgrade pip\u001b[0m\n\u001b[1;37m                  ^\u001b[0m\n\u001b[1;31mSyntaxError\u001b[0m\u001b[1;31m:\u001b[0m invalid syntax\n"
     ]
    }
   ],
   "source": []
  },
  {
   "cell_type": "code",
   "execution_count": 6,
   "metadata": {},
   "outputs": [
    {
     "name": "stdout",
     "output_type": "stream",
     "text": [
      "<Response [200]>\n",
      "dict_keys(['abilities', 'base_experience', 'forms', 'game_indices', 'height', 'held_items', 'id', 'is_default', 'location_area_encounters', 'moves', 'name', 'order', 'past_types', 'species', 'sprites', 'stats', 'types', 'weight'])\n"
     ]
    }
   ],
   "source": [
    "# making an API call\n",
    "import requests\n",
    "\n",
    "response = requests.get(\"https://pokeapi.co/api/v2/pokemon/ditto\")\n",
    "print(response)\n",
    "\n",
    "if response.status_code == 200:\n",
    "    data = response.json()  #jsonifying the data so that it's a useable dict instead of a string\n",
    "\n",
    "print(data.keys())"
   ]
  },
  {
   "cell_type": "markdown",
   "metadata": {},
   "source": [
    "### Display a Pokemon's name, weight, abilities, and types"
   ]
  },
  {
   "cell_type": "code",
   "execution_count": 13,
   "metadata": {},
   "outputs": [
    {
     "name": "stdout",
     "output_type": "stream",
     "text": [
      "ditto\n",
      "3\n",
      "40\n",
      "{'name': 'transform', 'url': 'https://pokeapi.co/api/v2/move/144/'}\n"
     ]
    }
   ],
   "source": [
    "name = data['name']\n",
    "print(name)\n",
    "\n",
    "#retrieve height and weight\n",
    "height, weight, moves = data['height'], data['weight'], data['moves']\n",
    "print(height)\n",
    "print(weight)\n",
    "print(moves[0]['move'])"
   ]
  },
  {
   "cell_type": "code",
   "execution_count": 14,
   "metadata": {},
   "outputs": [
    {
     "name": "stdout",
     "output_type": "stream",
     "text": [
      "['limber', 'imposter']\n"
     ]
    }
   ],
   "source": [
    "abilities = []\n",
    "\n",
    "for ability in data['abilities']:\n",
    "    abilities.append(ability['ability']['name'])\n",
    "print(abilities)"
   ]
  },
  {
   "cell_type": "markdown",
   "metadata": {},
   "source": [
    "#### Create a function to Pull in your own Pokemon's data "
   ]
  },
  {
   "cell_type": "code",
   "execution_count": 28,
   "metadata": {},
   "outputs": [
    {
     "name": "stdout",
     "output_type": "stream",
     "text": [
      "Not a valid Pokemon, please try again 404\n"
     ]
    }
   ],
   "source": [
    "def poke_api_call(pokemon):\n",
    "    if isinstance(pokemon,int):\n",
    "        response = requests.get(f\"https://pokeapi.co/api/v2/pokemon/{pokemon}\")\n",
    "    else:\n",
    "        response = requests.get(f\"https://pokeapi.co/api/v2/pokemon/{pokemon.lower()}\")\n",
    "\n",
    "    try:\n",
    "        if response.status_code == 200:\n",
    "            data = response.json()  #jsonifying the data so that it's a useable dict instead of a string\n",
    "    \n",
    "        name = data['name']\n",
    "        weight = data['weight']\n",
    "        height = data['height']\n",
    "    \n",
    "        poke_stats = {\n",
    "            'name' : name,\n",
    "            'height' : height,\n",
    "            'weight' : weight,\n",
    "        }\n",
    "    \n",
    "        return poke_stats\n",
    "\n",
    "    except:\n",
    "        print('Not a valid Pokemon, please try again', response.status_code)\n",
    "poke_api_call('nuts')"
   ]
  },
  {
   "cell_type": "markdown",
   "metadata": {},
   "source": [
    "Choose your pokemon"
   ]
  },
  {
   "cell_type": "code",
   "execution_count": 29,
   "metadata": {},
   "outputs": [
    {
     "name": "stdout",
     "output_type": "stream",
     "text": [
      "[{'name': 'dustox', 'height': 12, 'weight': 316}, {'name': 'lumineon', 'height': 12, 'weight': 240}, {'name': 'cascoon', 'height': 7, 'weight': 115}, {'name': 'flutter-mane', 'height': 14, 'weight': 40}, {'name': 'clefable', 'height': 13, 'weight': 400}, {'name': 'pikachu', 'height': 4, 'weight': 60}]\n"
     ]
    }
   ],
   "source": [
    "from random import randint\n",
    "\n",
    "random_team_ids = [randint(1,1000) for i in range(5)]\n",
    "random_team_ids.append('pikachu')\n",
    "random_team_stats = []\n",
    "for id in random_team_ids:\n",
    "    random_team_stats.append(poke_api_call(id))\n",
    "print(random_team_stats)"
   ]
  },
  {
   "cell_type": "markdown",
   "metadata": {},
   "source": [
    "#### Use your function to create a dictionary of your favorite 6 pokemon"
   ]
  },
  {
   "cell_type": "code",
   "execution_count": 27,
   "metadata": {},
   "outputs": [
    {
     "name": "stdout",
     "output_type": "stream",
     "text": [
      "{'Ursaluna': {'name': 'ursaluna', 'height': 24, 'weight': 2900}, 'Machoke': {'name': 'machoke', 'height': 15, 'weight': 705}, 'Omanyte': {'name': 'omanyte', 'height': 4, 'weight': 75}, 'Arrokuda': {'name': 'arrokuda', 'height': 5, 'weight': 10}, 'Lampent': {'name': 'lampent', 'height': 6, 'weight': 130}}\n"
     ]
    }
   ],
   "source": [
    "# Place all 6 of your pokemon on the object below, each pokemon should have at least as much info as Pikachu did.\n",
    "party = ['heracross', 'vaporeon', 'flygon', 'charizard', 'pidgeot', 'crobat']\n",
    "\n",
    "my_team = {}\n",
    "\n",
    "for pokemon in random_team_ids:\n",
    "    poke_stats = poke_api_call(pokemon)\n",
    "    my_team[poke_stats['name'].title()] = poke_stats\n",
    "\n",
    "print(my_team)"
   ]
  },
  {
   "cell_type": "markdown",
   "metadata": {},
   "source": [
    "## Lets create a class called 'Pokemon' and create our pokemon as instances"
   ]
  },
  {
   "cell_type": "code",
   "execution_count": 53,
   "metadata": {},
   "outputs": [],
   "source": [
    "class Pokemon():\n",
    "    from random import randint\n",
    "    \n",
    "    def __init__(self, name):\n",
    "        self.name = name\n",
    "        self.types = []\n",
    "        self.abilities = []\n",
    "        self.weight = None\n",
    "        self.height = None\n",
    "        self.id = None\n",
    "        self.poke_api_call()\n",
    "    \n",
    "    def poke_api_call(self):\n",
    "        if isinstance(pokemon,int):\n",
    "            response = requests.get(f\"https://pokeapi.co/api/v2/pokemon/{self.name.lower()}\")\n",
    "        else:\n",
    "            response = requests.get(f\"https://pokeapi.co/api/v2/pokemon/{self.name.lower()}\")\n",
    "    \n",
    "        try:\n",
    "            if response.status_code == 200:\n",
    "                data = response.json()  #jsonifying the data so that it's a useable dict instead of a string\n",
    "                \n",
    "            self.id = data['id']\n",
    "            self.name = data['name']\n",
    "            self.weight = data['weight']\n",
    "            self.height = data['height']\n",
    "            self.abilities = [ability['ability']['name'] for ability in data['abilities']]\n",
    "            self.types = [type_['type']['name'] for type_ in data['types']]\n",
    "        \n",
    "            print(f\"{self.name}'s data has been updated\")\n",
    "    \n",
    "        except:\n",
    "            print('Not a valid Pokemon, please try again', response.status_code)\n",
    "\n",
    "    def __repr__(self):\n",
    "        return f\"You caught a {self.name}! Congrats!\""
   ]
  },
  {
   "cell_type": "markdown",
   "metadata": {},
   "source": [
    "### Let's Catch some Pokemon\n",
    "\n"
   ]
  },
  {
   "cell_type": "code",
   "execution_count": 54,
   "metadata": {},
   "outputs": [
    {
     "name": "stdout",
     "output_type": "stream",
     "text": [
      "heracross's data has been updated\n",
      "vaporeon's data has been updated\n",
      "flygon's data has been updated\n",
      "charizard's data has been updated\n",
      "pidgeot's data has been updated\n",
      "crobat's data has been updated\n",
      "{'heracross': You caught a heracross! Congrats!, 'vaporeon': You caught a vaporeon! Congrats!, 'flygon': You caught a flygon! Congrats!, 'charizard': You caught a charizard! Congrats!, 'pidgeot': You caught a pidgeot! Congrats!, 'crobat': You caught a crobat! Congrats!}\n"
     ]
    }
   ],
   "source": [
    "party = ['heracross', 'vaporeon', 'flygon', 'charizard', 'pidgeot', 'crobat']\n",
    "\n",
    "my_team = {}\n",
    "for pokemon in party:\n",
    "    poke = Pokemon(pokemon)\n",
    "    my_team[poke.name] = poke\n",
    "\n",
    "print(my_team)"
   ]
  },
  {
   "cell_type": "code",
   "execution_count": 57,
   "metadata": {},
   "outputs": [
    {
     "name": "stdout",
     "output_type": "stream",
     "text": [
      "heracross stats:\n",
      "\n",
      "{'name': 'heracross', 'types': ['bug', 'fighting'], 'abilities': ['swarm', 'guts', 'moxie'], 'weight': 540, 'height': 15, 'id': 214} \n",
      "\n",
      "vaporeon stats:\n",
      "\n",
      "{'name': 'vaporeon', 'types': ['water'], 'abilities': ['water-absorb', 'hydration'], 'weight': 290, 'height': 10, 'id': 134} \n",
      "\n",
      "flygon stats:\n",
      "\n",
      "{'name': 'flygon', 'types': ['ground', 'dragon'], 'abilities': ['levitate'], 'weight': 820, 'height': 20, 'id': 330} \n",
      "\n",
      "charizard stats:\n",
      "\n",
      "{'name': 'charizard', 'types': ['fire', 'flying'], 'abilities': ['blaze', 'solar-power'], 'weight': 905, 'height': 17, 'id': 6} \n",
      "\n",
      "pidgeot stats:\n",
      "\n",
      "{'name': 'pidgeot', 'types': ['normal', 'flying'], 'abilities': ['keen-eye', 'tangled-feet', 'big-pecks'], 'weight': 395, 'height': 15, 'id': 18} \n",
      "\n",
      "crobat stats:\n",
      "\n",
      "{'name': 'crobat', 'types': ['poison', 'flying'], 'abilities': ['inner-focus', 'infiltrator'], 'weight': 750, 'height': 18, 'id': 169} \n",
      "\n"
     ]
    }
   ],
   "source": [
    "for name, stats in my_team.items():\n",
    "    print(f'{name} stats:\\n')\n",
    "    print(stats.__dict__,'\\n')"
   ]
  },
  {
   "cell_type": "markdown",
   "metadata": {},
   "source": [
    "## Exercise 1:"
   ]
  },
  {
   "cell_type": "markdown",
   "metadata": {},
   "source": [
    "### Create a Method prints an image of your pokemon\n",
    "\n",
    "<p>HINT: You may need another attribute as well to store your image url within. </p>"
   ]
  },
  {
   "cell_type": "code",
   "execution_count": 63,
   "metadata": {},
   "outputs": [
    {
     "name": "stdout",
     "output_type": "stream",
     "text": [
      "mudkip's data has been updated\n"
     ]
    },
    {
     "data": {
      "text/html": [
       "<img src=\"https://raw.githubusercontent.com/PokeAPI/sprites/master/sprites/pokemon/shiny/258.png\"/>"
      ],
      "text/plain": [
       "<IPython.core.display.Image object>"
      ]
     },
     "metadata": {},
     "output_type": "display_data"
    }
   ],
   "source": [
    "# Display an image in Jupyter notebook\n",
    "from IPython.display import Image\n",
    "\n",
    "class Pokemon():\n",
    "    \n",
    "    def __init__(self, name):\n",
    "        self.id = None\n",
    "        self.name = name\n",
    "        self.types = []\n",
    "        self.abilities = []\n",
    "        self.weight = None \n",
    "        self.height = None\n",
    "        self.image = None\n",
    "        self.poke_api_call()\n",
    "        \n",
    "    def poke_api_call(self):\n",
    "#         print('In the poke api call')\n",
    "        response = requests.get(f\"https://pokeapi.co/api/v2/pokemon/{self.name.lower()}\")\n",
    "#         print(response)\n",
    "\n",
    "        if response.status_code == 200: #200 is a successful request & response\n",
    "            data = response.json() #jsonifying the data to be a usable dictionary/object \n",
    "        else:\n",
    "            return \"Not a valid pokemon name. Please try again\", response.status_code        \n",
    "\n",
    "#         print(data)\n",
    "        self.id = data['id'] #im trying to grab the key of id \n",
    "        self.name = data['name']\n",
    "        self.weight  = data['weight']\n",
    "        self.height = data['height']\n",
    "        self.abilities = [ability['ability']['name'] for ability in data['abilities']]\n",
    "        self.types = [type_['type']['name'] for type_ in data['types']]\n",
    "        self.image = data['sprites']['front_shiny']\n",
    "        \n",
    "        print(f\"{self.name}'s data has been updated\")\n",
    "    \n",
    "    def throw_random_ability(self):\n",
    "        return choice(self.abilities)\n",
    "\n",
    "    def display_image(self):\n",
    "        display(Image(url = self.image))\n",
    "    \n",
    "    def __repr__(self):\n",
    "        return f\"You caught a {self.name}! Congrats!\"\n",
    "\n",
    "heracross = Pokemon('mudkip')\n",
    "heracross.display_image()\n"
   ]
  },
  {
   "cell_type": "code",
   "execution_count": null,
   "metadata": {},
   "outputs": [],
   "source": [
    "# recreate your pokemon class here\n",
    "\n",
    "        \n",
    "    "
   ]
  },
  {
   "cell_type": "markdown",
   "metadata": {},
   "source": [
    "## Exercise 2:"
   ]
  },
  {
   "cell_type": "markdown",
   "metadata": {},
   "source": [
    "### Create a Method that evolves your Pokemon\n",
    "If your pokemon can't evolve any further print a message that says \"\\<name of pokemon> can't evolve.\""
   ]
  },
  {
   "cell_type": "markdown",
   "metadata": {},
   "source": [
    "Now let's evolve a few"
   ]
  },
  {
   "cell_type": "code",
   "execution_count": 68,
   "metadata": {
    "scrolled": true
   },
   "outputs": [
    {
     "name": "stdout",
     "output_type": "stream",
     "text": [
      "charmander's data has been updated\n",
      "........\n",
      "Your charmander is evolving!!!\n"
     ]
    },
    {
     "data": {
      "text/html": [
       "<img src=\"https://raw.githubusercontent.com/PokeAPI/sprites/master/sprites/pokemon/shiny/4.png\"/>"
      ],
      "text/plain": [
       "<IPython.core.display.Image object>"
      ]
     },
     "metadata": {},
     "output_type": "display_data"
    },
    {
     "name": "stdout",
     "output_type": "stream",
     "text": [
      "........\n",
      "Congrats!  Your charmander has evolved to......\n",
      "charmeleon's data has been updated\n",
      "charmeleon!\n"
     ]
    },
    {
     "data": {
      "text/html": [
       "<img src=\"https://raw.githubusercontent.com/PokeAPI/sprites/master/sprites/pokemon/shiny/5.png\"/>"
      ],
      "text/plain": [
       "<IPython.core.display.Image object>"
      ]
     },
     "metadata": {},
     "output_type": "display_data"
    }
   ],
   "source": [
    "import requests\n",
    "\n",
    "from time import sleep\n",
    "# recreate your pokemon class here\n",
    "\n",
    "class Evolver(Pokemon):\n",
    "\n",
    "    def __init__(self, name):\n",
    "        super().__init__(name)\n",
    "\n",
    "    def evolve(self):\n",
    "        # api call specific for evolution\n",
    "        response = requests.get(f'https://pokeapi.co/api/v2/pokemon-species/{self.name.lower()}')\n",
    "\n",
    "        if response.status_code == 200:\n",
    "            data = response.json()\n",
    "        else:\n",
    "            return \"Ran into an issue, please check your pokemon's name\", response.status_code\n",
    "\n",
    "        response = requests.get(data['evolution_chain']['url'])\n",
    "\n",
    "        if response.status_code == 200:\n",
    "            data = response.json()\n",
    "            ev_chain = data['chain']\n",
    "\n",
    "        else: \n",
    "            return \"Ran into an issue, please check your pokemon's name\", response.status_code\n",
    "\n",
    "        base_name = ev_chain['species']['name'] #charmander\n",
    "        evolution = ev_chain['evolves_to'][0] #evolution dictionary\n",
    "        evolution_name = evolution['species']['name'] #charmeleon\n",
    "\n",
    "        if base_name == self.name:\n",
    "            pass\n",
    "        elif evolution_name == self.name:\n",
    "            evolution_name = evolution['evolves_to'][0]['species']['name'] #charizard\n",
    "        else:\n",
    "            print(f\"You cannot evolve your {self.name} any further....\")\n",
    "            return\n",
    "\n",
    "        print(\"........\")\n",
    "        sleep(1)\n",
    "        print(f'Your {self.name} is evolving!!!')\n",
    "        self.display_image()\n",
    "        sleep(1)\n",
    "        print(\"........\")\n",
    "        print(f'Congrats!  Your {self.name} has evolved to......')\n",
    "        self.name = evolution_name\n",
    "        self.poke_api_call()\n",
    "        print(f'{self.name}!')\n",
    "        self.display_image()\n",
    "        \n",
    "pokemon = Evolver('Charmander')\n",
    "pokemon.evolve()"
   ]
  },
  {
   "cell_type": "code",
   "execution_count": 69,
   "metadata": {},
   "outputs": [
    {
     "name": "stdout",
     "output_type": "stream",
     "text": [
      "........\n",
      "Your charmeleon is evolving!!!\n"
     ]
    },
    {
     "data": {
      "text/html": [
       "<img src=\"https://raw.githubusercontent.com/PokeAPI/sprites/master/sprites/pokemon/shiny/5.png\"/>"
      ],
      "text/plain": [
       "<IPython.core.display.Image object>"
      ]
     },
     "metadata": {},
     "output_type": "display_data"
    },
    {
     "name": "stdout",
     "output_type": "stream",
     "text": [
      "........\n",
      "Congrats!  Your charmeleon has evolved to......\n",
      "charizard's data has been updated\n",
      "charizard!\n"
     ]
    },
    {
     "data": {
      "text/html": [
       "<img src=\"https://raw.githubusercontent.com/PokeAPI/sprites/master/sprites/pokemon/shiny/6.png\"/>"
      ],
      "text/plain": [
       "<IPython.core.display.Image object>"
      ]
     },
     "metadata": {},
     "output_type": "display_data"
    }
   ],
   "source": [
    "pokemon.evolve()"
   ]
  },
  {
   "cell_type": "code",
   "execution_count": null,
   "metadata": {},
   "outputs": [],
   "source": [
    "## Evolver class should inherit pokemon class\n"
   ]
  },
  {
   "cell_type": "markdown",
   "metadata": {},
   "source": [
    "#  Final Exercise: <br> <br>Create a Move_Tutor Class that in herits from the Pokemon parent class.\n",
    "\n",
    "<p>This class should have a list attribute (move_list) that holds pokemon moves which should be populated with an api call to the PokeApi moves section  (just like we did with abilities and types in the Pokemon class example). Finally create a class method that teaches your pokemon up to 4 moves. This method should take in a user input to what move they would like to teach and do a membership inside the move_list. If the move exists inside the move_list the pokemon can learn that move and append to the final taught_moves list. </p> \n",
    "\n"
   ]
  },
  {
   "cell_type": "code",
   "execution_count": null,
   "metadata": {},
   "outputs": [
    {
     "name": "stdout",
     "output_type": "stream",
     "text": [
      "charmander's data has been updated\n"
     ]
    },
    {
     "name": "stdin",
     "output_type": "stream",
     "text": [
      "So you want to teach charmander a move, eh? Which move would you like to choose? \n",
      " ['mega-punch', 'fire-punch', 'thunder-punch', 'scratch', 'swords-dance', 'cut', 'wing-attack', 'mega-kick', 'headbutt', 'body-slam', 'take-down', 'double-edge', 'leer', 'bite', 'growl', 'ember', 'flamethrower', 'submission', 'counter', 'seismic-toss', 'strength', 'dragon-rage', 'fire-spin', 'dig', 'toxic', 'rage', 'mimic', 'double-team', 'smokescreen', 'defense-curl', 'reflect', 'bide', 'fire-blast', 'swift', 'skull-bash', 'fury-swipes', 'rest', 'rock-slide', 'slash', 'substitute', 'snore', 'curse', 'protect', 'scary-face', 'belly-drum', 'mud-slap', 'outrage', 'endure', 'false-swipe', 'swagger', 'fury-cutter', 'attract', 'sleep-talk', 'return', 'frustration', 'dynamic-punch', 'dragon-breath', 'iron-tail', 'metal-claw', 'hidden-power', 'sunny-day', 'crunch', 'ancient-power', 'rock-smash', 'beat-up', 'heat-wave', 'will-o-wisp', 'facade', 'focus-punch', 'helping-hand', 'brick-break', 'secret-power', 'weather-ball', 'air-cutter', 'overheat', 'rock-tomb', 'aerial-ace', 'dragon-claw', 'dragon-dance', 'natural-gift', 'fling', 'flare-blitz', 'dragon-pulse', 'dragon-rush', 'focus-blast', 'shadow-claw', 'fire-fang', 'captivate', 'hone-claws', 'flame-burst', 'flame-charge', 'round', 'echoed-voice', 'incinerate', 'acrobatics', 'inferno', 'fire-pledge', 'dragon-tail', 'work-up', 'confide', 'power-up-punch', 'tera-blast'] \n",
      " leef\n"
     ]
    },
    {
     "name": "stdout",
     "output_type": "stream",
     "text": [
      "charmander can't learn leef!\n",
      "\n",
      "\n"
     ]
    }
   ],
   "source": [
    "class Move_Tutor(Pokemon):\n",
    "    \n",
    "    def __init__(self, name):\n",
    "        super().__init__(name)\n",
    "        self.move_list = []\n",
    "        self.taught_moves = []\n",
    "        self.moves_list()\n",
    "        \n",
    "    def moves_list(self):\n",
    "        response = requests.get(f\"https://pokeapi.co/api/v2/pokemon/{self.name.lower()}\")\n",
    "\n",
    "        if response.status_code == 200: #200 is a successful request & response\n",
    "            data = response.json() #jsonifying the data to be a usable dictionary/object \n",
    "        else:\n",
    "            return \"Not a valid pokemon name. Please try again\", response.status_code        \n",
    "\n",
    "        self.move_list = [move['move']['name'] for move in data['moves']]\n",
    "    \n",
    "        \n",
    "    def teach_move(self):\n",
    "        move = input(f'So you want to teach {self.name} a move, eh? Which move would you like to choose? \\n {self.move_list} \\n').lower()\n",
    "        if move in self.taught_moves:\n",
    "            print(f'{self.name} already knows {move}')\n",
    "        elif move in self.move_list:\n",
    "            if len(self.taught_moves) < 4:\n",
    "                self.taught_moves.append(move)\n",
    "                print(f'{self.name} learned {move}')\n",
    "            else:\n",
    "                choice = input(f'{self.name} already knows 4 moves.  Would you like to forget one to learn {move}? (y/n) ').lower()\n",
    "                if choice == 'y':\n",
    "                    try:\n",
    "                        forgotten_move = int(input(f'Which move would you like to forget? \\n {self.taught_moves[0]}:1 \\n {self.taught_moves[1]}:2 \\\n",
    "                        \\n {self.taught_moves[2]}:3 \\n {self.taught_moves[3]}:4, '))\n",
    "                        other = self.taught_moves.pop(forgotten_move -1)\n",
    "                        self.taught_moves.append(move)\n",
    "                        print(f'{self.name} has forgotten {other} and has learned {move}!')\n",
    "                    except: \n",
    "                        print(f'{forgotten_move} is not a valid selection')\n",
    "        else:\n",
    "            print(f\"{self.name} can't learn {move}!\")\n",
    "        print('\\n')\n",
    "        \n",
    "charmander = Move_Tutor('charmander')\n",
    "charmander.teach_move()\n",
    "charmander.teach_move()\n",
    "charmander.teach_move()\n",
    "charmander.teach_move()\n",
    "charmander.teach_move()"
   ]
  },
  {
   "cell_type": "code",
   "execution_count": 77,
   "metadata": {},
   "outputs": [
    {
     "name": "stdout",
     "output_type": "stream",
     "text": [
      "['leer', 'cut']\n"
     ]
    }
   ],
   "source": [
    "print(charmander.taught_moves)"
   ]
  },
  {
   "cell_type": "code",
   "execution_count": null,
   "metadata": {},
   "outputs": [],
   "source": [
    "pikachu.teach_move()\n"
   ]
  },
  {
   "cell_type": "code",
   "execution_count": null,
   "metadata": {},
   "outputs": [],
   "source": [
    "pikachu.show_moves()"
   ]
  }
 ],
 "metadata": {
  "kernelspec": {
   "display_name": "Python 3 (ipykernel)",
   "language": "python",
   "name": "python3"
  },
  "language_info": {
   "codemirror_mode": {
    "name": "ipython",
    "version": 3
   },
   "file_extension": ".py",
   "mimetype": "text/x-python",
   "name": "python",
   "nbconvert_exporter": "python",
   "pygments_lexer": "ipython3",
   "version": "3.10.11"
  }
 },
 "nbformat": 4,
 "nbformat_minor": 4
}
